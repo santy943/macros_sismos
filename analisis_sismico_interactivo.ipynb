{
 "cells": [
  {
   "cell_type": "markdown",
   "metadata": {},
   "source": [
    "# 🏗️ Procesador Sísmico - Análisis de Daño Estructural\n",
    "\n",
    "## 📋 Descripción\n",
    "Este cuaderno ejecuta el análisis completo de daño estructural por sismos, replicando las macros VBA originales:\n",
    "- **Hinges_List**: Identificación y procesamiento de rótulas plásticas\n",
    "- **Moment_Rotation**: Análisis momento-rotación e histéresis\n",
    "- **Damage_Index**: Evaluación de índices de daño según Park & Ang\n",
    "\n",
    "### 🔬 Metodología\n",
    "- Basado en Jiang, H.J., Chen, L.Z. & Chen, Q. (2011)\n",
    "  \n",
    "\n",
    "---"
   ]
  },
  {
   "cell_type": "markdown",
   "metadata": {},
   "source": [
    "## 🔧 Configuración Inicial"
   ]
  },
  {
   "cell_type": "code",
   "execution_count": null,
   "metadata": {},
   "outputs": [
    {
     "ename": "ModuleNotFoundError",
     "evalue": "No module named 'procesador_sismico_limpio'",
     "output_type": "error",
     "traceback": [
      "\u001b[31m---------------------------------------------------------------------------\u001b[39m",
      "\u001b[31mModuleNotFoundError\u001b[39m                       Traceback (most recent call last)",
      "\u001b[36mCell\u001b[39m\u001b[36m \u001b[39m\u001b[32mIn[1]\u001b[39m\u001b[32m, line 13\u001b[39m\n\u001b[32m     10\u001b[39m \u001b[38;5;28;01mimport\u001b[39;00m\u001b[38;5;250m \u001b[39m\u001b[34;01mpandas\u001b[39;00m\u001b[38;5;250m \u001b[39m\u001b[38;5;28;01mas\u001b[39;00m\u001b[38;5;250m \u001b[39m\u001b[34;01mpd\u001b[39;00m\n\u001b[32m     12\u001b[39m \u001b[38;5;66;03m# Importar funciones del procesador\u001b[39;00m\n\u001b[32m---> \u001b[39m\u001b[32m13\u001b[39m \u001b[38;5;28;01mfrom\u001b[39;00m\u001b[38;5;250m \u001b[39m\u001b[34;01mprocesador_sismico_limpio\u001b[39;00m\u001b[38;5;250m \u001b[39m\u001b[38;5;28;01mimport\u001b[39;00m cargar_archivos\n\u001b[32m     14\u001b[39m \u001b[38;5;28;01mfrom\u001b[39;00m\u001b[38;5;250m \u001b[39m\u001b[34;01mmacros\u001b[39;00m\u001b[34;01m.\u001b[39;00m\u001b[34;01mhinges_list\u001b[39;00m\u001b[38;5;250m \u001b[39m\u001b[38;5;28;01mimport\u001b[39;00m macro_hinges_list\n\u001b[32m     15\u001b[39m \u001b[38;5;28;01mfrom\u001b[39;00m\u001b[38;5;250m \u001b[39m\u001b[34;01mmacros\u001b[39;00m\u001b[34;01m.\u001b[39;00m\u001b[34;01mmoment_rotation\u001b[39;00m\u001b[38;5;250m \u001b[39m\u001b[38;5;28;01mimport\u001b[39;00m macro_moment_rotation\n",
      "\u001b[31mModuleNotFoundError\u001b[39m: No module named 'procesador_sismico_limpio'"
     ]
    }
   ],
   "source": [
    "#!/usr/bin/env python3\n",
    "\"\"\"\n",
    "Procesador Sísmico - Análisis de Daño Estructural\n",
    "Conversión completa de macros VBA a Python\n",
    "\"\"\"\n",
    "\n",
    "import logging\n",
    "import os\n",
    "from datetime import datetime\n",
    "import pandas as pd\n",
    "import helpers.processor_helper\n",
    "from macros.hinges_list import macro_hinges_list\n",
    "from macros.moment_rotation import macro_moment_rotation\n",
    "from macros.damage_index import macro_damage_index\n",
    "\n",
    "print(\"✅ Librerías importadas correctamente\")"
   ]
  },
  {
   "cell_type": "markdown",
   "metadata": {},
   "source": [
    "## ⚙️ Parámetros de Análisis"
   ]
  },
  {
   "cell_type": "code",
   "execution_count": null,
   "metadata": {},
   "outputs": [
    {
     "name": "stdout",
     "output_type": "stream",
     "text": [
      "📋 Parámetros configurados:\n",
      "   🏢 Altura de piso: 3.0 m\n",
      "   🌊 Dirección sísmica: X\n",
      "   📅 Timestamp: 2025-09-08 11:04:03\n"
     ]
    }
   ],
   "source": [
    "# 📊 PARÁMETROS DE ANÁLISIS\n",
    "HP = 3.0          # Altura de piso en metros\n",
    "DIRECCION = 'X'   # Dirección del sismo ('X' o 'Y')\n",
    "\n",
    "print(f\"📋 Parámetros configurados:\")\n",
    "print(f\"   🏢 Altura de piso: {HP} m\")\n",
    "print(f\"   🌊 Dirección sísmica: {DIRECCION}\")\n",
    "print(f\"   📅 Timestamp: {datetime.now().strftime('%Y-%m-%d %H:%M:%S')}\")"
   ]
  },
  {
   "cell_type": "markdown",
   "metadata": {},
   "source": [
    "## 🗂️ Configuración de Logging y Resultados"
   ]
  },
  {
   "cell_type": "code",
   "execution_count": null,
   "metadata": {},
   "outputs": [
    {
     "name": "stdout",
     "output_type": "stream",
     "text": [
      "📝 Log configurado: analisis_sismico_20250908_110403.log\n",
      "📁 Directorio de resultados: resultados_20250908_110403\n"
     ]
    }
   ],
   "source": [
    "def configurar_logging():\n",
    "    \"\"\"Configura el sistema de logging\"\"\"\n",
    "    timestamp = datetime.now().strftime(\"%Y%m%d_%H%M%S\")\n",
    "    log_file = f\"analisis_sismico_{timestamp}.log\"\n",
    "    \n",
    "    logging.basicConfig(\n",
    "        level=logging.INFO,\n",
    "        format='%(asctime)s - %(levelname)s - %(message)s',\n",
    "        handlers=[\n",
    "            logging.FileHandler(log_file, encoding='utf-8'),\n",
    "            logging.StreamHandler()\n",
    "        ]\n",
    "    )\n",
    "    return log_file\n",
    "\n",
    "def crear_directorio_resultados():\n",
    "    \"\"\"Crea directorio para resultados con timestamp\"\"\"\n",
    "    timestamp = datetime.now().strftime(\"%Y%m%d_%H%M%S\")\n",
    "    directorio = f\"resultados_{timestamp}\"\n",
    "    os.makedirs(directorio, exist_ok=True)\n",
    "    return directorio\n",
    "\n",
    "def guardar_csv_formato_europeo(df, archivo, columnas_numericas=None):\n",
    "    \"\"\"Guarda DataFrame en formato CSV europeo (separador ; y coma decimal)\"\"\"\n",
    "    df_export = df.copy()\n",
    "    \n",
    "    if columnas_numericas:\n",
    "        for col in columnas_numericas:\n",
    "            if col in df_export.columns:\n",
    "                df_export[col] = df_export[col].astype(str).str.replace('.', ',')\n",
    "    \n",
    "    df_export.to_csv(archivo, sep=';', index=False, encoding='utf-8')\n",
    "\n",
    "# Configurar logging y directorio\n",
    "log_file = configurar_logging()\n",
    "dir_resultados = crear_directorio_resultados()\n",
    "logger = logging.getLogger(__name__)\n",
    "\n",
    "print(f\"📝 Log configurado: {log_file}\")\n",
    "print(f\"📁 Directorio de resultados: {dir_resultados}\")"
   ]
  },
  {
   "cell_type": "markdown",
   "metadata": {},
   "source": [
    "## 📂 PASO 1: Carga de Archivos de Entrada"
   ]
  },
  {
   "cell_type": "code",
   "execution_count": null,
   "metadata": {},
   "outputs": [
    {
     "name": "stderr",
     "output_type": "stream",
     "text": [
      "2025-09-08 11:04:03,579 - INFO - ============================================================\n",
      "2025-09-08 11:04:03,588 - INFO - 🏗️  PROCESADOR SÍSMICO - ANÁLISIS DE DAÑO ESTRUCTURAL\n",
      "2025-09-08 11:04:03,589 - INFO - ============================================================\n",
      "2025-09-08 11:04:03,591 - INFO - 📋 Parámetros: Hp=3.0m, Dirección=X\n",
      "2025-09-08 11:04:03,592 - INFO - 📝 Log guardado en: analisis_sismico_20250908_110403.log\n",
      "2025-09-08 11:04:03,593 - INFO - 📁 Directorio de resultados: resultados_20250908_110403\n",
      "2025-09-08 11:04:03,594 - INFO - \n",
      "🔄 PASO 1: Cargando archivos de entrada...\n"
     ]
    },
    {
     "name": "stdout",
     "output_type": "stream",
     "text": [
      "\n",
      "🔄 PASO 1: Cargando archivos de entrada...\n"
     ]
    },
    {
     "name": "stderr",
     "output_type": "stream",
     "text": [
      "/Users/saza/Documents/python project/Andres/procesador_csv/procesador_sismico_limpio.py:32: DtypeWarning: Columns (1,2,3,4,5,6,7,8,9,13,14,19,20,21,22) have mixed types. Specify dtype option on import or set low_memory=False.\n",
      "  archivos['CR'] = pd.read_csv('csv/CR.csv', sep=';')\n"
     ]
    },
    {
     "name": "stdout",
     "output_type": "stream",
     "text": [
      "✅ Archivos cargados exitosamente:\n",
      "   📄 CD.csv: 556 filas, 9 columnas\n",
      "   📄 CR.csv: 1048573 filas, 23 columnas\n",
      "   📄 HK.csv: 1793 filas, 3 columnas\n",
      "   📄 SC.csv: 4 filas, 45 columnas\n"
     ]
    }
   ],
   "source": [
    "logger.info(\"=\"*60)\n",
    "logger.info(\"🏗️  PROCESADOR SÍSMICO - ANÁLISIS DE DAÑO ESTRUCTURAL\")\n",
    "logger.info(\"=\"*60)\n",
    "logger.info(f\"📋 Parámetros: Hp={HP}m, Dirección={DIRECCION}\")\n",
    "logger.info(f\"📝 Log guardado en: {log_file}\")\n",
    "logger.info(f\"📁 Directorio de resultados: {dir_resultados}\")\n",
    "\n",
    "print(\"\\n🔄 PASO 1: Cargando archivos de entrada...\")\n",
    "logger.info(\"\\n🔄 PASO 1: Cargando archivos de entrada...\")\n",
    "\n",
    "try:\n",
    "    archivos = cargar_archivos()\n",
    "    \n",
    "    print(\"✅ Archivos cargados exitosamente:\")\n",
    "    for nombre, df in archivos.items():\n",
    "        print(f\"   📄 {nombre}.csv: {len(df)} filas, {len(df.columns)} columnas\")\n",
    "        \n",
    "except Exception as e:\n",
    "    print(f\"❌ Error cargando archivos: {e}\")\n",
    "    logger.error(f\"Error cargando archivos: {e}\")\n",
    "    raise"
   ]
  },
  {
   "cell_type": "markdown",
   "metadata": {},
   "source": [
    "## 🔗 PASO 2: Macro Hinges_List - Identificación de Rótulas"
   ]
  },
  {
   "cell_type": "code",
   "execution_count": null,
   "metadata": {},
   "outputs": [
    {
     "name": "stderr",
     "output_type": "stream",
     "text": [
      "2025-09-08 11:04:04,708 - INFO - \n",
      "🔄 PASO 2: Ejecutando Hinges_List...\n"
     ]
    },
    {
     "name": "stdout",
     "output_type": "stream",
     "text": [
      "\n",
      "🔄 PASO 2: Ejecutando Hinges_List...\n",
      "Ejecutando Hinges_List (Hp=3.0m, Dirección=X)\n",
      "Identificadas 208 rótulas únicas\n",
      "RT generado con 208 rótulas\n",
      "✅ Hinges_List completado:\n",
      "   🔗 Rótulas identificadas: 208\n",
      "   📊 Columnas generadas: 19\n",
      "\n",
      "📋 Primeras 5 rótulas procesadas:\n"
     ]
    },
    {
     "data": {
      "text/html": [
       "<div>\n",
       "<style scoped>\n",
       "    .dataframe tbody tr th:only-of-type {\n",
       "        vertical-align: middle;\n",
       "    }\n",
       "\n",
       "    .dataframe tbody tr th {\n",
       "        vertical-align: top;\n",
       "    }\n",
       "\n",
       "    .dataframe thead th {\n",
       "        text-align: right;\n",
       "    }\n",
       "</style>\n",
       "<table border=\"1\" class=\"dataframe\">\n",
       "  <thead>\n",
       "    <tr style=\"text-align: right;\">\n",
       "      <th></th>\n",
       "      <th>Hinge</th>\n",
       "      <th>Section</th>\n",
       "      <th>Frame</th>\n",
       "      <th>My</th>\n",
       "      <th>Mu</th>\n",
       "      <th>Cy</th>\n",
       "      <th>Cu</th>\n",
       "    </tr>\n",
       "  </thead>\n",
       "  <tbody>\n",
       "    <tr>\n",
       "      <th>0</th>\n",
       "      <td>44H2</td>\n",
       "      <td>C1B</td>\n",
       "      <td>44.0</td>\n",
       "      <td>654.195512</td>\n",
       "      <td>800.745470</td>\n",
       "      <td>0.010562</td>\n",
       "      <td>0.238827</td>\n",
       "    </tr>\n",
       "    <tr>\n",
       "      <th>1</th>\n",
       "      <td>44H1</td>\n",
       "      <td>C1B</td>\n",
       "      <td>44.0</td>\n",
       "      <td>655.484761</td>\n",
       "      <td>801.160521</td>\n",
       "      <td>0.010559</td>\n",
       "      <td>0.237893</td>\n",
       "    </tr>\n",
       "    <tr>\n",
       "      <th>2</th>\n",
       "      <td>45H2</td>\n",
       "      <td>C1B</td>\n",
       "      <td>45.0</td>\n",
       "      <td>640.779994</td>\n",
       "      <td>796.426571</td>\n",
       "      <td>0.010597</td>\n",
       "      <td>0.248542</td>\n",
       "    </tr>\n",
       "    <tr>\n",
       "      <th>3</th>\n",
       "      <td>45H1</td>\n",
       "      <td>C1B</td>\n",
       "      <td>45.0</td>\n",
       "      <td>642.069157</td>\n",
       "      <td>796.841595</td>\n",
       "      <td>0.010594</td>\n",
       "      <td>0.247608</td>\n",
       "    </tr>\n",
       "    <tr>\n",
       "      <th>4</th>\n",
       "      <td>48H2</td>\n",
       "      <td>C1A</td>\n",
       "      <td>48.0</td>\n",
       "      <td>981.200873</td>\n",
       "      <td>1142.645876</td>\n",
       "      <td>0.007449</td>\n",
       "      <td>0.125370</td>\n",
       "    </tr>\n",
       "  </tbody>\n",
       "</table>\n",
       "</div>"
      ],
      "text/plain": [
       "  Hinge Section  Frame          My           Mu        Cy        Cu\n",
       "0  44H2     C1B   44.0  654.195512   800.745470  0.010562  0.238827\n",
       "1  44H1     C1B   44.0  655.484761   801.160521  0.010559  0.237893\n",
       "2  45H2     C1B   45.0  640.779994   796.426571  0.010597  0.248542\n",
       "3  45H1     C1B   45.0  642.069157   796.841595  0.010594  0.247608\n",
       "4  48H2     C1A   48.0  981.200873  1142.645876  0.007449  0.125370"
      ]
     },
     "metadata": {},
     "output_type": "display_data"
    }
   ],
   "source": [
    "print(\"\\n🔄 PASO 2: Ejecutando Hinges_List...\")\n",
    "logger.info(\"\\n🔄 PASO 2: Ejecutando Hinges_List...\")\n",
    "\n",
    "try:\n",
    "    df_rt = macro_hinges_list(archivos, hp=HP, direccion=DIRECCION)\n",
    "    \n",
    "    print(f\"✅ Hinges_List completado:\")\n",
    "    print(f\"   🔗 Rótulas identificadas: {len(df_rt)}\")\n",
    "    print(f\"   📊 Columnas generadas: {len(df_rt.columns)}\")\n",
    "    \n",
    "    # Mostrar primeras 5 rótulas\n",
    "    print(\"\\n📋 Primeras 5 rótulas procesadas:\")\n",
    "    display(df_rt[['Hinge', 'Section', 'Frame', 'My', 'Mu', 'Cy', 'Cu']].head())\n",
    "    \n",
    "except Exception as e:\n",
    "    print(f\"❌ Error en Hinges_List: {e}\")\n",
    "    logger.error(f\"Error en Hinges_List: {e}\")\n",
    "    raise"
   ]
  },
  {
   "cell_type": "markdown",
   "metadata": {},
   "source": [
    "## 💾 Guardar RT.csv (Resultados de Rótulas)"
   ]
  },
  {
   "cell_type": "code",
   "execution_count": null,
   "metadata": {},
   "outputs": [
    {
     "name": "stderr",
     "output_type": "stream",
     "text": [
      "2025-09-08 11:05:05,674 - INFO - 💾 RT.csv guardado: resultados_20250908_110403/RT.csv\n"
     ]
    },
    {
     "name": "stdout",
     "output_type": "stream",
     "text": [
      "💾 RT.csv guardado: resultados_20250908_110403/RT.csv\n",
      "   📏 Tamaño: 38,853 bytes\n"
     ]
    }
   ],
   "source": [
    "# Guardar RT.csv\n",
    "archivo_rt = os.path.join(dir_resultados, 'RT.csv')\n",
    "columnas_numericas_rt = ['RelDist', 'L', 'Storey', 'B', 'H', \"f'c\", 'fy', 'ρsx', 'α', \n",
    "                        'P average', 'My', 'Mu', 'Cy', 'Cu', 'Lc*', 'Rp']\n",
    "\n",
    "guardar_csv_formato_europeo(df_rt, archivo_rt, columnas_numericas_rt)\n",
    "logger.info(f\"💾 RT.csv guardado: {archivo_rt}\")\n",
    "print(f\"💾 RT.csv guardado: {archivo_rt}\")\n",
    "print(f\"   📏 Tamaño: {os.path.getsize(archivo_rt):,} bytes\")"
   ]
  },
  {
   "cell_type": "markdown",
   "metadata": {},
   "source": [
    "## 🔄 PASO 3: Macro Moment_Rotation - Análisis Momento-Rotación"
   ]
  },
  {
   "cell_type": "code",
   "execution_count": null,
   "metadata": {},
   "outputs": [
    {
     "name": "stderr",
     "output_type": "stream",
     "text": [
      "2025-09-08 11:05:05,681 - INFO - \n",
      "🔄 PASO 3: Ejecutando Moment_Rotation...\n"
     ]
    },
    {
     "name": "stdout",
     "output_type": "stream",
     "text": [
      "\n",
      "🔄 PASO 3: Ejecutando Moment_Rotation...\n",
      "Ejecutando Moment_Rotation (Dirección=X)\n",
      "Moment_Rotation completado para 208 rótulas\n",
      "✅ Moment_Rotation completado:\n",
      "   📊 Rótulas procesadas: 208\n",
      "   🔢 Matrices M-R generadas: 208\n",
      "\n",
      "📈 Estadísticas de rotaciones:\n"
     ]
    },
    {
     "data": {
      "text/html": [
       "<div>\n",
       "<style scoped>\n",
       "    .dataframe tbody tr th:only-of-type {\n",
       "        vertical-align: middle;\n",
       "    }\n",
       "\n",
       "    .dataframe tbody tr th {\n",
       "        vertical-align: top;\n",
       "    }\n",
       "\n",
       "    .dataframe thead th {\n",
       "        text-align: right;\n",
       "    }\n",
       "</style>\n",
       "<table border=\"1\" class=\"dataframe\">\n",
       "  <thead>\n",
       "    <tr style=\"text-align: right;\">\n",
       "      <th></th>\n",
       "      <th>θy</th>\n",
       "      <th>θp</th>\n",
       "      <th>θu</th>\n",
       "      <th>θc</th>\n",
       "      <th>θm</th>\n",
       "    </tr>\n",
       "  </thead>\n",
       "  <tbody>\n",
       "    <tr>\n",
       "      <th>count</th>\n",
       "      <td>208.000000</td>\n",
       "      <td>208.000000</td>\n",
       "      <td>208.000000</td>\n",
       "      <td>208.000000</td>\n",
       "      <td>2.080000e+02</td>\n",
       "    </tr>\n",
       "    <tr>\n",
       "      <th>mean</th>\n",
       "      <td>0.000428</td>\n",
       "      <td>0.053032</td>\n",
       "      <td>0.053460</td>\n",
       "      <td>0.000053</td>\n",
       "      <td>4.445539e-05</td>\n",
       "    </tr>\n",
       "    <tr>\n",
       "      <th>std</th>\n",
       "      <td>0.000148</td>\n",
       "      <td>0.022524</td>\n",
       "      <td>0.022378</td>\n",
       "      <td>0.000002</td>\n",
       "      <td>1.083881e-04</td>\n",
       "    </tr>\n",
       "    <tr>\n",
       "      <th>min</th>\n",
       "      <td>0.000279</td>\n",
       "      <td>0.026020</td>\n",
       "      <td>0.026653</td>\n",
       "      <td>0.000051</td>\n",
       "      <td>5.443524e-08</td>\n",
       "    </tr>\n",
       "    <tr>\n",
       "      <th>25%</th>\n",
       "      <td>0.000293</td>\n",
       "      <td>0.027872</td>\n",
       "      <td>0.028477</td>\n",
       "      <td>0.000051</td>\n",
       "      <td>1.134229e-05</td>\n",
       "    </tr>\n",
       "    <tr>\n",
       "      <th>50%</th>\n",
       "      <td>0.000313</td>\n",
       "      <td>0.069713</td>\n",
       "      <td>0.070006</td>\n",
       "      <td>0.000052</td>\n",
       "      <td>1.525811e-05</td>\n",
       "    </tr>\n",
       "    <tr>\n",
       "      <th>75%</th>\n",
       "      <td>0.000605</td>\n",
       "      <td>0.075268</td>\n",
       "      <td>0.075551</td>\n",
       "      <td>0.000056</td>\n",
       "      <td>2.595734e-05</td>\n",
       "    </tr>\n",
       "    <tr>\n",
       "      <th>max</th>\n",
       "      <td>0.000632</td>\n",
       "      <td>0.077935</td>\n",
       "      <td>0.078229</td>\n",
       "      <td>0.000057</td>\n",
       "      <td>9.500344e-04</td>\n",
       "    </tr>\n",
       "  </tbody>\n",
       "</table>\n",
       "</div>"
      ],
      "text/plain": [
       "               θy          θp          θu          θc            θm\n",
       "count  208.000000  208.000000  208.000000  208.000000  2.080000e+02\n",
       "mean     0.000428    0.053032    0.053460    0.000053  4.445539e-05\n",
       "std      0.000148    0.022524    0.022378    0.000002  1.083881e-04\n",
       "min      0.000279    0.026020    0.026653    0.000051  5.443524e-08\n",
       "25%      0.000293    0.027872    0.028477    0.000051  1.134229e-05\n",
       "50%      0.000313    0.069713    0.070006    0.000052  1.525811e-05\n",
       "75%      0.000605    0.075268    0.075551    0.000056  2.595734e-05\n",
       "max      0.000632    0.077935    0.078229    0.000057  9.500344e-04"
      ]
     },
     "metadata": {},
     "output_type": "display_data"
    }
   ],
   "source": [
    "print(\"\\n🔄 PASO 3: Ejecutando Moment_Rotation...\")\n",
    "logger.info(\"\\n🔄 PASO 3: Ejecutando Moment_Rotation...\")\n",
    "\n",
    "try:\n",
    "    mr_matrix_data, df_rt_updated = macro_moment_rotation(archivos, df_rt, direccion=DIRECCION)\n",
    "    \n",
    "    print(f\"✅ Moment_Rotation completado:\")\n",
    "    print(f\"   📊 Rótulas procesadas: {len(df_rt_updated)}\")\n",
    "    print(f\"   🔢 Matrices M-R generadas: {len(mr_matrix_data)}\")\n",
    "    \n",
    "    # Mostrar estadísticas de rotaciones\n",
    "    rotaciones_cols = ['θy', 'θp', 'θu', 'θc', 'θm']\n",
    "    disponibles = [col for col in rotaciones_cols if col in df_rt_updated.columns]\n",
    "    \n",
    "    if disponibles:\n",
    "        print(\"\\n📈 Estadísticas de rotaciones:\")\n",
    "        display(df_rt_updated[disponibles].describe())\n",
    "    \n",
    "except Exception as e:\n",
    "    print(f\"❌ Error en Moment_Rotation: {e}\")\n",
    "    logger.error(f\"Error en Moment_Rotation: {e}\")\n",
    "    raise"
   ]
  },
  {
   "cell_type": "markdown",
   "metadata": {},
   "source": [
    "## 💾 Guardar MR.csv (Matrices Momento-Rotación)"
   ]
  },
  {
   "cell_type": "code",
   "execution_count": null,
   "metadata": {},
   "outputs": [],
   "source": [
    "def crear_mr_matricial(mr_matrix_data, rotulas_ordenadas, archivo_salida):\n",
    "    \"\"\"Crea archivo MR.csv en formato matricial\"\"\"\n",
    "    \n",
    "    # Crear encabezados\n",
    "    header_row1 = []\n",
    "    header_row2 = []\n",
    "    header_row3 = []\n",
    "    \n",
    "    for rotula in rotulas_ordenadas:\n",
    "        header_row1.extend([rotula, '', ''])\n",
    "        header_row2.extend(['M', 'Rot', 'P'])\n",
    "        header_row3.extend(['kN-m', 'Rad', 'kN'])\n",
    "    \n",
    "    # Determinar número máximo de filas\n",
    "    max_rows = 0\n",
    "    for rotula in rotulas_ordenadas:\n",
    "        if rotula in mr_matrix_data:\n",
    "            max_rows = max(max_rows, len(mr_matrix_data[rotula]['moments']))\n",
    "    \n",
    "    # Crear filas de datos\n",
    "    data_rows = []\n",
    "    for i in range(max_rows):\n",
    "        row = []\n",
    "        for rotula in rotulas_ordenadas:\n",
    "            if rotula in mr_matrix_data and i < len(mr_matrix_data[rotula]['moments']):\n",
    "                moment = mr_matrix_data[rotula]['moments'][i]\n",
    "                rotation = mr_matrix_data[rotula]['rotations'][i]\n",
    "                axial = mr_matrix_data[rotula]['axials'][i]\n",
    "                \n",
    "                # Formatear números con coma decimal\n",
    "                moment_str = f\"{moment:.6f}\".replace('.', ',')\n",
    "                rotation_str = f\"{rotation:.6f}\".replace('.', ',')\n",
    "                axial_str = f\"{axial:.2f}\".replace('.', ',')\n",
    "                \n",
    "                row.extend([moment_str, rotation_str, axial_str])\n",
    "            else:\n",
    "                row.extend(['', '', ''])\n",
    "        data_rows.append(row)\n",
    "    \n",
    "    # Escribir archivo CSV\n",
    "    with open(archivo_salida, 'w', encoding='utf-8') as f:\n",
    "        f.write(';'.join(header_row1) + '\\n')\n",
    "        f.write(';'.join(header_row2) + '\\n')\n",
    "        f.write(';'.join(header_row3) + '\\n')\n",
    "        \n",
    "        for row in data_rows:\n",
    "            f.write(';'.join(row) + '\\n')"
   ]
  },
  {
   "cell_type": "markdown",
   "metadata": {},
   "source": [
    "## 🎯 PASO 4: Macro Damage_Index - Evaluación de Daño"
   ]
  },
  {
   "cell_type": "code",
   "execution_count": null,
   "metadata": {},
   "outputs": [
    {
     "name": "stderr",
     "output_type": "stream",
     "text": [
      "2025-09-08 11:05:07,996 - INFO - \n",
      "🔄 PASO 4: Ejecutando Damage_Index...\n",
      "2025-09-08 11:05:08,017 - INFO - 💾 ID.csv guardado: resultados_20250908_110403/ID.csv\n"
     ]
    },
    {
     "name": "stdout",
     "output_type": "stream",
     "text": [
      "Ejecutando Damage_Index\n",
      "Damage_Index completado para 208 rótulas\n"
     ]
    }
   ],
   "source": [
    "logger.info(\"\\n🔄 PASO 4: Ejecutando Damage_Index...\")\n",
    "df_id, df_rt_final = macro_damage_index(df_rt_updated)\n",
    "\n",
    "# Guardar ID.csv\n",
    "archivo_id = os.path.join(dir_resultados, 'ID.csv')\n",
    "columnas_numericas_id = ['EH', 'ID']\n",
    "guardar_csv_formato_europeo(df_id, archivo_id, columnas_numericas_id)\n",
    "logger.info(f\"💾 ID.csv guardado: {archivo_id}\")"
   ]
  },
  {
   "cell_type": "markdown",
   "metadata": {},
   "source": [
    "## 💾 Guardar ID.csv (Índices de Daño)"
   ]
  },
  {
   "cell_type": "code",
   "execution_count": null,
   "metadata": {},
   "outputs": [
    {
     "name": "stderr",
     "output_type": "stream",
     "text": [
      "2025-09-08 11:05:08,023 - INFO - 💾 ID.csv guardado: resultados_20250908_110403/ID.csv\n"
     ]
    },
    {
     "name": "stdout",
     "output_type": "stream",
     "text": [
      "💾 ID.csv guardado: resultados_20250908_110403/ID.csv\n",
      "   📏 Tamaño: 9,176 bytes\n"
     ]
    }
   ],
   "source": [
    "# Guardar ID.csv\n",
    "archivo_id = os.path.join(dir_resultados, 'ID.csv')\n",
    "columnas_numericas_id = ['ID', 'no', 'Beta', 'dM']\n",
    "guardar_csv_formato_europeo(df_id, archivo_id, columnas_numericas_id)\n",
    "logger.info(f\"💾 ID.csv guardado: {archivo_id}\")\n",
    "print(f\"💾 ID.csv guardado: {archivo_id}\")\n",
    "print(f\"   📏 Tamaño: {os.path.getsize(archivo_id):,} bytes\")"
   ]
  },
  {
   "cell_type": "markdown",
   "metadata": {},
   "source": [
    "## 📋 Actualizar RT.csv con Rotaciones Calculadas"
   ]
  },
  {
   "cell_type": "code",
   "execution_count": null,
   "metadata": {},
   "outputs": [
    {
     "name": "stderr",
     "output_type": "stream",
     "text": [
      "2025-09-08 11:05:08,034 - INFO - 🔄 RT.csv actualizado con rotaciones: resultados_20250908_110403/RT.csv\n"
     ]
    },
    {
     "name": "stdout",
     "output_type": "stream",
     "text": [
      "🔄 RT.csv actualizado con rotaciones calculadas\n"
     ]
    }
   ],
   "source": [
    "# Actualizar RT.csv con rotaciones calculadas\n",
    "columnas_numericas_rt_updated = columnas_numericas_rt + ['θy', 'θp', 'θu', 'θc', 'θm', 'Pm', 'EH']\n",
    "guardar_csv_formato_europeo(df_rt_updated, archivo_rt, columnas_numericas_rt_updated)\n",
    "logger.info(f\"🔄 RT.csv actualizado con rotaciones: {archivo_rt}\")\n",
    "print(f\"🔄 RT.csv actualizado con rotaciones calculadas\")"
   ]
  },
  {
   "cell_type": "markdown",
   "metadata": {},
   "source": [
    "## 🎉 Resumen Final del Análisis"
   ]
  },
  {
   "cell_type": "code",
   "execution_count": null,
   "metadata": {},
   "outputs": [
    {
     "name": "stderr",
     "output_type": "stream",
     "text": [
      "2025-09-08 11:05:08,039 - INFO - \n",
      "============================================================\n",
      "2025-09-08 11:05:08,039 - INFO - 🎉 ANÁLISIS SÍSMICO COMPLETADO EXITOSAMENTE\n",
      "2025-09-08 11:05:08,039 - INFO - ============================================================\n",
      "2025-09-08 11:05:08,040 - INFO - ✅ RT.csv: Resultados de rótulas con propiedades y rotaciones (74,082 bytes)\n",
      "2025-09-08 11:05:08,040 - WARNING - ❌ MR.csv: No encontrado\n",
      "2025-09-08 11:05:08,040 - INFO - ✅ ID.csv: Índices de daño y niveles de desempeño (9,176 bytes)\n",
      "2025-09-08 11:05:08,041 - INFO - Análisis completado - Resultados en: resultados_20250908_110403\n",
      "2025-09-08 11:05:08,041 - INFO - Rótulas procesadas: 208\n"
     ]
    },
    {
     "name": "stdout",
     "output_type": "stream",
     "text": [
      "\n",
      "============================================================\n",
      "🎉 ANÁLISIS SÍSMICO COMPLETADO EXITOSAMENTE\n",
      "============================================================\n",
      "\n",
      "📁 Directorio de resultados: resultados_20250908_110403\n",
      "📝 Archivo de log: analisis_sismico_20250908_110403.log\n",
      "\n",
      "📄 Archivos generados:\n",
      "   ✅ RT.csv: Resultados de rótulas con propiedades y rotaciones (74,082 bytes)\n",
      "   ❌ MR.csv: No encontrado\n",
      "   ✅ ID.csv: Índices de daño y niveles de desempeño (9,176 bytes)\n",
      "\n",
      "📊 Estadísticas del análisis:\n",
      "   🔗 Rótulas procesadas: 208\n",
      "   🏢 Altura de piso: 3.0 m\n",
      "   🌊 Dirección sísmica: X\n",
      "\n",
      "✨ Análisis sísmico finalizado correctamente\n",
      "📂 Revisa los archivos en: resultados_20250908_110403\n"
     ]
    }
   ],
   "source": [
    "print(\"\\n\" + \"=\"*60)\n",
    "print(\"🎉 ANÁLISIS SÍSMICO COMPLETADO EXITOSAMENTE\")\n",
    "print(\"=\"*60)\n",
    "\n",
    "logger.info(\"\\n\" + \"=\"*60)\n",
    "logger.info(\"🎉 ANÁLISIS SÍSMICO COMPLETADO EXITOSAMENTE\")\n",
    "logger.info(\"=\"*60)\n",
    "\n",
    "# Resumen de archivos generados\n",
    "archivos_generados = {\n",
    "    'RT.csv': 'Resultados de rótulas con propiedades y rotaciones',\n",
    "    'MR.csv': 'Matrices momento-rotación para cada rótula',\n",
    "    'ID.csv': 'Índices de daño y niveles de desempeño'\n",
    "}\n",
    "\n",
    "print(f\"\\n📁 Directorio de resultados: {dir_resultados}\")\n",
    "print(f\"📝 Archivo de log: {log_file}\")\n",
    "print(f\"\\n📄 Archivos generados:\")\n",
    "\n",
    "for archivo, descripcion in archivos_generados.items():\n",
    "    ruta_completa = os.path.join(dir_resultados, archivo)\n",
    "    if os.path.exists(ruta_completa):\n",
    "        tamaño = os.path.getsize(ruta_completa)\n",
    "        print(f\"   ✅ {archivo}: {descripcion} ({tamaño:,} bytes)\")\n",
    "        logger.info(f\"✅ {archivo}: {descripcion} ({tamaño:,} bytes)\")\n",
    "    else:\n",
    "        print(f\"   ❌ {archivo}: No encontrado\")\n",
    "        logger.warning(f\"❌ {archivo}: No encontrado\")\n",
    "\n",
    "# Estadísticas finales\n",
    "print(f\"\\n📊 Estadísticas del análisis:\")\n",
    "print(f\"   🔗 Rótulas procesadas: {len(df_rt_updated)}\")\n",
    "print(f\"   🏢 Altura de piso: {HP} m\")\n",
    "print(f\"   🌊 Dirección sísmica: {DIRECCION}\")\n",
    "\n",
    "if 'ND' in df_id.columns:\n",
    "    niveles = df_id['ND'].value_counts()\n",
    "    print(f\"\\n🎯 Distribución final de desempeño:\")\n",
    "    for nivel, cantidad in niveles.items():\n",
    "        porcentaje = cantidad/len(df_id)*100\n",
    "        print(f\"   {nivel} (Nivel {nivel}): {cantidad} rótulas ({porcentaje:.1f}%)\")\n",
    "        logger.info(f\"{nivel}: {cantidad} rótulas ({porcentaje:.1f}%)\")\n",
    "\n",
    "logger.info(f\"Análisis completado - Resultados en: {dir_resultados}\")\n",
    "logger.info(f\"Rótulas procesadas: {len(df_rt_updated)}\")\n",
    "\n",
    "print(f\"\\n✨ Análisis sísmico finalizado correctamente\")\n",
    "print(f\"📂 Revisa los archivos en: {dir_resultados}\")"
   ]
  }
 ],
 "metadata": {
  "kernelspec": {
   "display_name": "venv",
   "language": "python",
   "name": "python3"
  },
  "language_info": {
   "codemirror_mode": {
    "name": "ipython",
    "version": 3
   },
   "file_extension": ".py",
   "mimetype": "text/x-python",
   "name": "python",
   "nbconvert_exporter": "python",
   "pygments_lexer": "ipython3",
   "version": "3.13.7"
  }
 },
 "nbformat": 4,
 "nbformat_minor": 4
}
